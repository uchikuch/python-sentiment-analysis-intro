{
  "nbformat": 4,
  "nbformat_minor": 0,
  "metadata": {
    "colab": {
      "name": "First Project",
      "provenance": [],
      "collapsed_sections": [],
      "authorship_tag": "ABX9TyMR6V90XO8uyHNqIkkG2HAr",
      "include_colab_link": true
    },
    "kernelspec": {
      "name": "python3",
      "display_name": "Python 3"
    },
    "language_info": {
      "name": "python"
    }
  },
  "cells": [
    {
      "cell_type": "markdown",
      "metadata": {
        "id": "view-in-github",
        "colab_type": "text"
      },
      "source": [
        "<a href=\"https://colab.research.google.com/github/uchikuch/Bulma-Intro/blob/main/First_Project.ipynb\" target=\"_parent\"><img src=\"https://colab.research.google.com/assets/colab-badge.svg\" alt=\"Open In Colab\"/></a>"
      ]
    },
    {
      "cell_type": "code",
      "metadata": {
        "id": "D7oU2DkCP9ML"
      },
      "source": [
        "# Get the sentiment of text from a website"
      ],
      "execution_count": null,
      "outputs": []
    },
    {
      "cell_type": "code",
      "metadata": {
        "id": "K5m3RLGmQNKC"
      },
      "source": [
        "# pip install newspaper3k"
      ],
      "execution_count": null,
      "outputs": []
    },
    {
      "cell_type": "code",
      "metadata": {
        "id": "nMNFCi1uQpHt"
      },
      "source": [
        "# Import the libraries\n",
        "from textblob import TextBlob\n",
        "import nltk\n",
        "from newspaper import Article"
      ],
      "execution_count": 8,
      "outputs": []
    },
    {
      "cell_type": "code",
      "metadata": {
        "id": "0hUsT-zxRM7f"
      },
      "source": [
        "# Get the article\n",
        "url = 'https://www.manutd.com/en/news/detail/cristiano-ronaldo-thanks-the-man-utd-fans-after-liverpool-defeat-on-25-oct-2021'\n",
        "article = Article(url)"
      ],
      "execution_count": 14,
      "outputs": []
    },
    {
      "cell_type": "code",
      "metadata": {
        "id": "IQYheB2cRmyA"
      },
      "source": [
        "# Do some Natural Language Processing (NLP)\n",
        "article.download()\n",
        "article.parse()\n",
        "nltk.download('punkt')\n",
        "article.nlp()"
      ],
      "execution_count": null,
      "outputs": []
    },
    {
      "cell_type": "code",
      "metadata": {
        "colab": {
          "base_uri": "https://localhost:8080/"
        },
        "id": "CJxhZweeR7v0",
        "outputId": "f52ff990-d9a8-46cd-c5ec-0844231c2d9a"
      },
      "source": [
        "# Get summary of the article\n",
        "text = article.summary\n",
        "\n",
        "\n",
        "\n",
        "#print the text\n",
        "print(text)"
      ],
      "execution_count": 30,
      "outputs": [
        {
          "output_type": "stream",
          "name": "stdout",
          "text": [
            "The Reds suffered a painful 5-0 defeat to Jurgen Klopp’s Merseysiders on what Ole Gunnar Solskjaer has described as his darkest day in management.\n",
            "Ronaldo thought he had pulled a goal back in the 53rd minute when he finished into the bottom corner of Liverpool’s net, but it was ruled out after an intervention by the Video Assistant Referee moments later.\n",
            "Matters were made worse when substitute Paul Pogba was shown a straight red card for a challenge on Naby Keita, following another VAR consultation, much to the delight to the away end.\n",
            "It was a difficult experience for our fans, but those inside the stadium kept on supporting the team and, if anything, the noise levels only grew as the minutes ticked by.\n"
          ]
        }
      ]
    },
    {
      "cell_type": "code",
      "metadata": {
        "colab": {
          "base_uri": "https://localhost:8080/"
        },
        "id": "AkWcYw0MSVVg",
        "outputId": "cab2cddc-a9f4-402d-cd15-fba01ea9237c"
      },
      "source": [
        "# Create a TextBlob object\n",
        "obj = TextBlob(text)\n",
        "\n",
        "\n",
        "\n",
        "# This returns a value between -1 and 1\n",
        "sentiment = obj.sentiment.polarity\n",
        "print(sentiment)"
      ],
      "execution_count": 31,
      "outputs": [
        {
          "output_type": "stream",
          "name": "stdout",
          "text": [
            "-0.07916666666666668\n"
          ]
        }
      ]
    },
    {
      "cell_type": "code",
      "metadata": {
        "colab": {
          "base_uri": "https://localhost:8080/"
        },
        "id": "6tnAXn-aS3L7",
        "outputId": "37b36eea-259d-4ee8-ec30-033ae38cf460"
      },
      "source": [
        "if sentiment == 0:\n",
        "  print('The text is neutral')\n",
        "elif sentiment > 0:\n",
        "  print('The text is positive')\n",
        "else:\n",
        "  print('The text is negative')"
      ],
      "execution_count": 32,
      "outputs": [
        {
          "output_type": "stream",
          "name": "stdout",
          "text": [
            "The text is negative\n"
          ]
        }
      ]
    }
  ]
}